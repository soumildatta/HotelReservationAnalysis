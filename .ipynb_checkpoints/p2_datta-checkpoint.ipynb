{
 "cells": [
  {
   "cell_type": "code",
   "execution_count": 507,
   "metadata": {},
   "outputs": [],
   "source": [
    "# supress warnings\n",
    "import warnings\n",
    "warnings.filterwarnings('ignore')"
   ]
  },
  {
   "cell_type": "code",
   "execution_count": 721,
   "metadata": {},
   "outputs": [],
   "source": [
    "# imports \n",
    "%matplotlib inline\n",
    "import pandas as pd \n",
    "import numpy as np\n",
    "import matplotlib.pyplot as plt\n",
    "import re\n",
    "import seaborn as sns\n",
    "from pandas.api.types import is_numeric_dtype\n",
    "from pandas.api.types import is_string_dtype\n",
    "from yellowbrick.features import FeatureImportances\n",
    "from sklearn.model_selection import cross_val_score\n",
    "from sklearn.metrics import confusion_matrix, classification_report\n",
    "from sklearn.metrics import accuracy_score\n",
    "from sklearn.impute import KNNImputer\n",
    "import category_encoders as ce\n",
    "import missingno as mno\n",
    "from sklearn.model_selection import train_test_split\n",
    "from sklearn.linear_model import LinearRegression\n",
    "from sklearn.tree import DecisionTreeClassifier\n",
    "from sklearn.ensemble import RandomForestClassifier\n",
    "from sklearn.neural_network import MLPClassifier\n",
    "from sklearn.model_selection import GridSearchCV"
   ]
  },
  {
   "cell_type": "code",
   "execution_count": 637,
   "metadata": {
    "scrolled": true
   },
   "outputs": [
    {
     "data": {
      "text/html": [
       "<div>\n",
       "<style scoped>\n",
       "    .dataframe tbody tr th:only-of-type {\n",
       "        vertical-align: middle;\n",
       "    }\n",
       "\n",
       "    .dataframe tbody tr th {\n",
       "        vertical-align: top;\n",
       "    }\n",
       "\n",
       "    .dataframe thead th {\n",
       "        text-align: right;\n",
       "    }\n",
       "</style>\n",
       "<table border=\"1\" class=\"dataframe\">\n",
       "  <thead>\n",
       "    <tr style=\"text-align: right;\">\n",
       "      <th></th>\n",
       "      <th>IsCanceled</th>\n",
       "      <th>LeadTime</th>\n",
       "      <th>ArrivalDateYear</th>\n",
       "      <th>ArrivalDateMonth</th>\n",
       "      <th>ArrivalDateWeekNumber</th>\n",
       "      <th>ArrivalDateDayOfMonth</th>\n",
       "      <th>StaysInWeekendNights</th>\n",
       "      <th>StaysInWeekNights</th>\n",
       "      <th>Adults</th>\n",
       "      <th>Children</th>\n",
       "      <th>...</th>\n",
       "      <th>DepositType</th>\n",
       "      <th>Agent</th>\n",
       "      <th>Company</th>\n",
       "      <th>DaysInWaitingList</th>\n",
       "      <th>CustomerType</th>\n",
       "      <th>ADR</th>\n",
       "      <th>RequiredCarParkingSpaces</th>\n",
       "      <th>TotalOfSpecialRequests</th>\n",
       "      <th>ReservationStatus</th>\n",
       "      <th>ReservationStatusDate</th>\n",
       "    </tr>\n",
       "  </thead>\n",
       "  <tbody>\n",
       "    <tr>\n",
       "      <th>0</th>\n",
       "      <td>0</td>\n",
       "      <td>342</td>\n",
       "      <td>2015</td>\n",
       "      <td>July</td>\n",
       "      <td>27</td>\n",
       "      <td>1</td>\n",
       "      <td>0</td>\n",
       "      <td>0</td>\n",
       "      <td>2</td>\n",
       "      <td>0</td>\n",
       "      <td>...</td>\n",
       "      <td>No Deposit</td>\n",
       "      <td>NULL</td>\n",
       "      <td>NULL</td>\n",
       "      <td>0</td>\n",
       "      <td>Transient</td>\n",
       "      <td>0.0</td>\n",
       "      <td>0</td>\n",
       "      <td>0</td>\n",
       "      <td>Check-Out</td>\n",
       "      <td>2015-07-01</td>\n",
       "    </tr>\n",
       "    <tr>\n",
       "      <th>1</th>\n",
       "      <td>0</td>\n",
       "      <td>737</td>\n",
       "      <td>2015</td>\n",
       "      <td>July</td>\n",
       "      <td>27</td>\n",
       "      <td>1</td>\n",
       "      <td>0</td>\n",
       "      <td>0</td>\n",
       "      <td>2</td>\n",
       "      <td>0</td>\n",
       "      <td>...</td>\n",
       "      <td>No Deposit</td>\n",
       "      <td>NULL</td>\n",
       "      <td>NULL</td>\n",
       "      <td>0</td>\n",
       "      <td>Transient</td>\n",
       "      <td>0.0</td>\n",
       "      <td>0</td>\n",
       "      <td>0</td>\n",
       "      <td>Check-Out</td>\n",
       "      <td>2015-07-01</td>\n",
       "    </tr>\n",
       "    <tr>\n",
       "      <th>2</th>\n",
       "      <td>0</td>\n",
       "      <td>7</td>\n",
       "      <td>2015</td>\n",
       "      <td>July</td>\n",
       "      <td>27</td>\n",
       "      <td>1</td>\n",
       "      <td>0</td>\n",
       "      <td>1</td>\n",
       "      <td>1</td>\n",
       "      <td>0</td>\n",
       "      <td>...</td>\n",
       "      <td>No Deposit</td>\n",
       "      <td>NULL</td>\n",
       "      <td>NULL</td>\n",
       "      <td>0</td>\n",
       "      <td>Transient</td>\n",
       "      <td>75.0</td>\n",
       "      <td>0</td>\n",
       "      <td>0</td>\n",
       "      <td>Check-Out</td>\n",
       "      <td>2015-07-02</td>\n",
       "    </tr>\n",
       "    <tr>\n",
       "      <th>3</th>\n",
       "      <td>0</td>\n",
       "      <td>13</td>\n",
       "      <td>2015</td>\n",
       "      <td>July</td>\n",
       "      <td>27</td>\n",
       "      <td>1</td>\n",
       "      <td>0</td>\n",
       "      <td>1</td>\n",
       "      <td>1</td>\n",
       "      <td>0</td>\n",
       "      <td>...</td>\n",
       "      <td>No Deposit</td>\n",
       "      <td>304</td>\n",
       "      <td>NULL</td>\n",
       "      <td>0</td>\n",
       "      <td>Transient</td>\n",
       "      <td>75.0</td>\n",
       "      <td>0</td>\n",
       "      <td>0</td>\n",
       "      <td>Check-Out</td>\n",
       "      <td>2015-07-02</td>\n",
       "    </tr>\n",
       "    <tr>\n",
       "      <th>4</th>\n",
       "      <td>0</td>\n",
       "      <td>14</td>\n",
       "      <td>2015</td>\n",
       "      <td>July</td>\n",
       "      <td>27</td>\n",
       "      <td>1</td>\n",
       "      <td>0</td>\n",
       "      <td>2</td>\n",
       "      <td>2</td>\n",
       "      <td>0</td>\n",
       "      <td>...</td>\n",
       "      <td>No Deposit</td>\n",
       "      <td>240</td>\n",
       "      <td>NULL</td>\n",
       "      <td>0</td>\n",
       "      <td>Transient</td>\n",
       "      <td>98.0</td>\n",
       "      <td>0</td>\n",
       "      <td>1</td>\n",
       "      <td>Check-Out</td>\n",
       "      <td>2015-07-03</td>\n",
       "    </tr>\n",
       "  </tbody>\n",
       "</table>\n",
       "<p>5 rows × 31 columns</p>\n",
       "</div>"
      ],
      "text/plain": [
       "   IsCanceled  LeadTime  ArrivalDateYear ArrivalDateMonth  \\\n",
       "0           0       342             2015             July   \n",
       "1           0       737             2015             July   \n",
       "2           0         7             2015             July   \n",
       "3           0        13             2015             July   \n",
       "4           0        14             2015             July   \n",
       "\n",
       "   ArrivalDateWeekNumber  ArrivalDateDayOfMonth  StaysInWeekendNights  \\\n",
       "0                     27                      1                     0   \n",
       "1                     27                      1                     0   \n",
       "2                     27                      1                     0   \n",
       "3                     27                      1                     0   \n",
       "4                     27                      1                     0   \n",
       "\n",
       "   StaysInWeekNights  Adults  Children  ...      DepositType        Agent  \\\n",
       "0                  0       2         0  ...  No Deposit              NULL   \n",
       "1                  0       2         0  ...  No Deposit              NULL   \n",
       "2                  1       1         0  ...  No Deposit              NULL   \n",
       "3                  1       1         0  ...  No Deposit               304   \n",
       "4                  2       2         0  ...  No Deposit               240   \n",
       "\n",
       "       Company DaysInWaitingList CustomerType   ADR  RequiredCarParkingSpaces  \\\n",
       "0         NULL                 0    Transient   0.0                         0   \n",
       "1         NULL                 0    Transient   0.0                         0   \n",
       "2         NULL                 0    Transient  75.0                         0   \n",
       "3         NULL                 0    Transient  75.0                         0   \n",
       "4         NULL                 0    Transient  98.0                         0   \n",
       "\n",
       "   TotalOfSpecialRequests ReservationStatus ReservationStatusDate  \n",
       "0                       0         Check-Out            2015-07-01  \n",
       "1                       0         Check-Out            2015-07-01  \n",
       "2                       0         Check-Out            2015-07-02  \n",
       "3                       0         Check-Out            2015-07-02  \n",
       "4                       1         Check-Out            2015-07-03  \n",
       "\n",
       "[5 rows x 31 columns]"
      ]
     },
     "execution_count": 637,
     "metadata": {},
     "output_type": "execute_result"
    }
   ],
   "source": [
    "# read data \n",
    "df = pd.read_csv('./h1.csv')\n",
    "df.head()"
   ]
  },
  {
   "cell_type": "code",
   "execution_count": 638,
   "metadata": {},
   "outputs": [],
   "source": [
    "# Replace values containing the 'NULL' string with NaN values\n",
    "null_string_values = re.compile(r'\\s*N{1}U{1}L{2}\\s*')\n",
    "df = df.replace(null_string_values, np.nan)"
   ]
  },
  {
   "cell_type": "code",
   "execution_count": 639,
   "metadata": {
    "scrolled": false
   },
   "outputs": [
    {
     "name": "stdout",
     "output_type": "stream",
     "text": [
      "Dimension of dataset: (40060, 31)\n",
      "\n"
     ]
    }
   ],
   "source": [
    "# initial exploration\n",
    "print(f'Dimension of dataset: {df.shape}')\n",
    "print()"
   ]
  },
  {
   "cell_type": "code",
   "execution_count": 641,
   "metadata": {},
   "outputs": [
    {
     "name": "stdout",
     "output_type": "stream",
     "text": [
      "Uncancelled Bookings: 72.237%\n",
      "Cancelled Bookings: 27.763%\n"
     ]
    }
   ],
   "source": [
    "# Check the ratio between cancelled and uncancelled bookings\n",
    "not_cancelled = df['IsCanceled'].value_counts()[0]\n",
    "cancelled = df['IsCanceled'].value_counts()[1]\n",
    "total = not_cancelled + cancelled\n",
    "print(f'Uncancelled Bookings: {(not_cancelled/(total)) * 100:.3f}%\\nCancelled Bookings: {(cancelled/(total)) * 100:.3f}%')"
   ]
  },
  {
   "cell_type": "code",
   "execution_count": 714,
   "metadata": {},
   "outputs": [
    {
     "name": "stdout",
     "output_type": "stream",
     "text": [
      "Guests with 1 or more children: 8.697%\n",
      "Guests without children: 91.303%\n",
      "\n",
      "Cancelled bookings for guests with no children: 26.815%\n",
      "Cancelled bookings for guests with 1 or more children: 37.715%\n",
      "\n",
      "The pie chart below represents the distribution between the guests without children and ones with children.\n",
      "The inner circle represents the amount of cancelled vs. uncancelled bookings for both of the categories\n"
     ]
    },
    {
     "data": {
      "image/png": "[encoded data removed]",
      "text/plain": [
       "<Figure size 936x1080 with 1 Axes>"
      ]
     },
     "metadata": {},
     "output_type": "display_data"
    }
   ],
   "source": [
    "# Children and babies\n",
    "\n",
    "no_children = df['Children'].value_counts()[0]\n",
    "with_children = df.loc[(df['Children'] != 0)].shape[0]\n",
    "total = not_cancelled + cancelled\n",
    "print(f'Guests with 1 or more children: {(with_children/(total)) * 100:.3f}%\\nGuests without children: {(no_children/(total)) * 100:.3f}%')\n",
    "print() \n",
    "\n",
    "cancelled_without_children = df.loc[(df['IsCanceled'] == 1) & (df['Children'] == 0)].shape[0]\n",
    "print(f'Cancelled bookings for guests with no children: {(cancelled_without_children/no_children) * 100:.3f}%')\n",
    "\n",
    "cancelled_with_children = df.loc[(df['IsCanceled'] == 1) & (df['Children'] != 0)].shape[0]\n",
    "print(f'Cancelled bookings for guests with 1 or more children: {(cancelled_with_children/with_children) * 100:.3f}%')\n",
    "print()\n",
    "\n",
    "print(\"The pie chart below represents the distribution between the guests without children and ones with children.\\nThe inner circle represents the amount of cancelled vs. uncancelled bookings for both of the categories\")\n",
    "labels = [\"Without children\", \"With 1 or more children\"]\n",
    "labels_inner = [\"Cancelled bookings w/o children\", \"Not cancelled bookings w/o children\", \"Cancelled bookings w/ children\", \"Not cancelled bookings w/ children\"]\n",
    "fig, ax = plt.subplots()\n",
    "size = 0.50\n",
    "vals = np.array([[cancelled_without_children, no_children - cancelled_without_children], [cancelled_with_children, with_children - cancelled_with_children]])\n",
    "\n",
    "plt.rcParams[\"figure.figsize\"] = (20,15)\n",
    "cmap = plt.get_cmap(\"tab20c\")\n",
    "outer_colors = cmap(np.arange(2)*4)\n",
    "inner_colors = cmap([1, 2, 5, 6, 9, 10])\n",
    "\n",
    "ax.pie(vals.sum(axis=1), radius=1, colors=outer_colors,\n",
    "       wedgeprops=dict(width=size, edgecolor='w'), labels=labels, autopct='%1.1f%%')\n",
    "\n",
    "ax.pie(vals.flatten(), radius=1-size, colors=inner_colors,\n",
    "       wedgeprops=dict(width=size, edgecolor='w'), labels=labels_inner, labeldistance=None, autopct='%1.1f%%')\n",
    "\n",
    "ax.set(aspect=\"equal\", title='Booking status based on children or no children')\n",
    "ax.legend(fontsize=11)\n",
    "\n",
    "plt.savefig('donutchart.png', bbox_inches='tight')"
   ]
  },
  {
   "cell_type": "code",
   "execution_count": 719,
   "metadata": {
    "scrolled": false
   },
   "outputs": [
    {
     "name": "stdout",
     "output_type": "stream",
     "text": [
      "Total bookings per month:\n",
      "August       4894\n",
      "July         4573\n",
      "April        3609\n",
      "May          3559\n",
      "October      3555\n",
      "March        3336\n",
      "September    3108\n",
      "February     3103\n",
      "June         3045\n",
      "December     2648\n",
      "November     2437\n",
      "January      2193\n",
      "Name: ArrivalDateMonth, dtype: int64\n"
     ]
    },
    {
     "data": {
      "image/png": "[encoded data removed]",
      "text/plain": [
       "<Figure size 864x576 with 1 Axes>"
      ]
     },
     "metadata": {
      "needs_background": "light"
     },
     "output_type": "display_data"
    }
   ],
   "source": [
    "# checking dates most cancelled\n",
    "dates = df['ArrivalDateMonth'].unique().tolist()\n",
    "date_values = []\n",
    "for date in dates:\n",
    "    date_values.append(df.loc[(df['IsCanceled'] == 1) & (df['ArrivalDateMonth'] == date)].shape[0])\n",
    "        \n",
    "plt.rcParams[\"figure.figsize\"] = (12,8)\n",
    "x_pos = [i for i, _ in enumerate(dates)]\n",
    "plt.bar(x_pos, date_values)\n",
    "plt.xticks(x_pos, dates)\n",
    "plt.ylabel('Cancelled Bookings')\n",
    "plt.title('Number of Cancelled Bookings per month')\n",
    "plt.savefig('tourist_months.png', bbox_inches='tight')\n",
    "\n",
    "print(\"Total bookings per month:\")\n",
    "print(df['ArrivalDateMonth'].value_counts())"
   ]
  },
  {
   "cell_type": "markdown",
   "metadata": {},
   "source": [
    "## Handle Missing values"
   ]
  },
  {
   "cell_type": "code",
   "execution_count": 720,
   "metadata": {
    "scrolled": false
   },
   "outputs": [
    {
     "name": "stdout",
     "output_type": "stream",
     "text": [
      "Features with coorelation above 0.95\n",
      "ArrivalDateWeekNumber\n",
      "ReservationStatus\n"
     ]
    },
    {
     "data": {
      "image/png": "[encoded data removed]",
      "text/plain": [
       "<Figure size 864x576 with 2 Axes>"
      ]
     },
     "metadata": {
      "needs_background": "light"
     },
     "output_type": "display_data"
    }
   ],
   "source": [
    "# Create a x and y temporarily to determine feature coorelations\n",
    "temp_df = df\n",
    "\n",
    "# Encode catagorical fields\n",
    "encoder = ce.OrdinalEncoder(cols=temp_df.columns)\n",
    "temp_df = encoder.fit_transform(temp_df)\n",
    "\n",
    "corr = temp_df.corr()\n",
    "heatmap = sns.heatmap(corr)\n",
    "heatmap.figure.savefig('coorelation_heatmap.png', bbox_inches='tight')\n",
    "\n",
    "columns = np.full((corr.shape[0],), True, dtype=bool)\n",
    "for i in range(corr.shape[0]):\n",
    "    for j in range(i+1, corr.shape[0]):\n",
    "        if corr.iloc[i,j] >= 0.95:\n",
    "            if columns[j]:\n",
    "                columns[j] = False\n",
    "selected_columns = temp_df.columns[columns]\n",
    "\n",
    "print(f'Features with coorelation above 0.95')\n",
    "for item in temp_df.columns:\n",
    "    if(item not in selected_columns):\n",
    "        print(item)"
   ]
  },
  {
   "cell_type": "code",
   "execution_count": 571,
   "metadata": {},
   "outputs": [
    {
     "name": "stdout",
     "output_type": "stream",
     "text": [
      "Deleted Reservation Status and Arrival Date Week\n"
     ]
    }
   ],
   "source": [
    "# Remove reservation status and arrival date week number since they have \n",
    "if 'ReservationStatus' in df.columns and 'ArrivalDateWeekNumber' in df.columns:\n",
    "    print('Deleted Reservation Status and Arrival Date Week')\n",
    "    df = df.drop(['ReservationStatus'], axis=1)\n",
    "    df = df.drop(['ArrivalDateWeekNumber'], axis=1)\n",
    "else:\n",
    "    print('Already deleted')"
   ]
  },
  {
   "cell_type": "markdown",
   "metadata": {},
   "source": [
    "## Encoding categorical columns"
   ]
  },
  {
   "cell_type": "code",
   "execution_count": 572,
   "metadata": {},
   "outputs": [
    {
     "name": "stdout",
     "output_type": "stream",
     "text": [
      "Printing out unique values in each column\n",
      "Meal: ['BB       ' 'FB       ' 'HB       ' 'SC       ' 'Undefined']\n",
      "\n",
      "Country: ['PRT' 'GBR' 'USA' 'ESP' 'IRL' 'FRA' nan 'ROU' 'NOR' 'OMN' 'ARG' 'POL'\n",
      " 'DEU' 'BEL' 'CHE' 'CN' 'GRC' 'ITA' 'NLD' 'DNK' 'RUS' 'SWE' 'AUS' 'EST'\n",
      " 'CZE' 'BRA' 'FIN' 'MOZ' 'BWA' 'LUX' 'SVN' 'ALB' 'IND' 'CHN' 'MEX' 'MAR'\n",
      " 'UKR' 'SMR' 'LVA' 'PRI' 'SRB' 'CHL' 'AUT' 'BLR' 'LTU' 'TUR' 'ZAF' 'AGO'\n",
      " 'ISR' 'CYM' 'ZMB' 'CPV' 'ZWE' 'DZA' 'KOR' 'CRI' 'HUN' 'ARE' 'TUN' 'JAM'\n",
      " 'HRV' 'HKG' 'IRN' 'GEO' 'AND' 'GIB' 'URY' 'JEY' 'CAF' 'CYP' 'COL' 'GGY'\n",
      " 'KWT' 'NGA' 'MDV' 'VEN' 'SVK' 'FJI' 'KAZ' 'PAK' 'IDN' 'LBN' 'PHL' 'SEN'\n",
      " 'SYC' 'AZE' 'BHR' 'NZL' 'THA' 'DOM' 'MKD' 'MYS' 'ARM' 'JPN' 'LKA' 'CUB'\n",
      " 'CMR' 'BIH' 'MUS' 'COM' 'SUR' 'UGA' 'BGR' 'CIV' 'JOR' 'SYR' 'SGP' 'BDI'\n",
      " 'SAU' 'VNM' 'PLW' 'QAT' 'EGY' 'PER' 'MLT' 'MWI' 'ECU' 'MDG' 'ISL' 'UZB'\n",
      " 'NPL' 'BHS' 'MAC' 'TGO' 'TWN' 'DJI']\n",
      "\n",
      "MarketSegment: ['Direct' 'Corporate' 'Online TA' 'Offline TA/TO' 'Complementary' 'Groups']\n",
      "\n",
      "DistributionChannel: ['Direct' 'Corporate' 'TA/TO' 'Undefined']\n",
      "\n",
      "ReservedRoomType: ['C               ' 'A               ' 'D               '\n",
      " 'E               ' 'G               ' 'F               '\n",
      " 'H               ' 'L               ' 'P               '\n",
      " 'B               ']\n",
      "\n",
      "AssignedRoomType: ['C               ' 'A               ' 'D               '\n",
      " 'E               ' 'G               ' 'F               '\n",
      " 'I               ' 'B               ' 'H               '\n",
      " 'P               ' 'L               ']\n",
      "\n",
      "DepositType: ['No Deposit     ' 'Refundable     ' 'Non Refund     ']\n",
      "\n",
      "CustomerType: ['Transient' 'Contract' 'Transient-Party' 'Group']\n",
      "\n"
     ]
    }
   ],
   "source": [
    "# figuring out the values for the categorical columns\n",
    "# columns not used: arrivaldatemonth, reservationstatusdate\n",
    "categorical_cols = ['Meal', 'Country', 'MarketSegment', 'DistributionChannel', 'ReservedRoomType', 'AssignedRoomType', 'DepositType', 'CustomerType']\n",
    "print('Printing out unique values in each column')\n",
    "\n",
    "try:\n",
    "    for column in categorical_cols:\n",
    "        print(f'{column}: {df[column].unique()}')\n",
    "        print()\n",
    "except:\n",
    "    print(\"Already encoded, hence these columns do not exist\")"
   ]
  },
  {
   "cell_type": "code",
   "execution_count": 584,
   "metadata": {},
   "outputs": [
    {
     "name": "stdout",
     "output_type": "stream",
     "text": [
      "Binary encoding has already been completed\n"
     ]
    },
    {
     "data": {
      "text/plain": [
       "(40060, 63)"
      ]
     },
     "execution_count": 584,
     "metadata": {},
     "output_type": "execute_result"
    }
   ],
   "source": [
    "# Use binary encoder since there are a lot of values for features such as country and room types\n",
    "# Reduces the curse of dimensionality\n",
    "# def encode_binary_categorical(df):\n",
    "try:\n",
    "    binary_encoder = ce.BinaryEncoder(cols=categorical_cols, handle_missing='return_nan')\n",
    "    df = binary_encoder.fit_transform(df)\n",
    "    print('Complete!')\n",
    "except:\n",
    "    print('Binary encoding has already been completed')\n",
    "df.shape"
   ]
  },
  {
   "cell_type": "markdown",
   "metadata": {},
   "source": [
    "#### Encoding Arrival Date Month\n",
    "Encoding Arrival Date month is done by first ordinally encoding the months, and then a sin and cosine transformation is applied to this feature so that the feature remains cyclical, much like the original concept of months and time. "
   ]
  },
  {
   "cell_type": "code",
   "execution_count": 585,
   "metadata": {
    "scrolled": false
   },
   "outputs": [
    {
     "name": "stdout",
     "output_type": "stream",
     "text": [
      "ArrivalDateMonth has already been encoded\n"
     ]
    },
    {
     "data": {
      "text/plain": [
       "(40060, 63)"
      ]
     },
     "execution_count": 585,
     "metadata": {},
     "output_type": "execute_result"
    }
   ],
   "source": [
    "# encoding ArrivalDateMonth\n",
    "try:\n",
    "    month_encoder = ce.OrdinalEncoder(cols=['ArrivalDateMonth'], return_df=True, \n",
    "                                      mapping=[{'col':'ArrivalDateMonth',\n",
    "                                                'mapping':{'None':0,'January':1,\n",
    "                                                           'February':2,'March':3,\n",
    "                                                           'April':4,'May':5, 'June': 6, \n",
    "                                                           'July': 7, 'August': 8, 'September': 9, \n",
    "                                                           'October': 10, 'November': 11, 'December': 12}}])\n",
    "    month_encoded_df = month_encoder.fit_transform(df)\n",
    "    month_encoded_df['ArrivalDateMonthSin'] = np.sin(2 * np.pi * month_encoded_df['ArrivalDateMonth']/12.0)\n",
    "    month_encoded_df['ArrivalDateMonthCos'] = np.cos(2 * np.pi * month_encoded_df['ArrivalDateMonth']/12.0)\n",
    "    month_encoded_df.plot.scatter('ArrivalDateMonthSin', 'ArrivalDateMonthCos').set_aspect('equal')\n",
    "    df = month_encoded_df.drop(['ArrivalDateMonth'], axis=1)\n",
    "    print('Complete!')\n",
    "except:\n",
    "    print('ArrivalDateMonth has already been encoded')\n",
    "df.shape"
   ]
  },
  {
   "cell_type": "markdown",
   "metadata": {},
   "source": [
    "Since the 'ReservationStatusDate' is a string that contains the year, month, and day, this needs to be encoded as well. However, considering the cyclical nature of the days and months, this feature needs to be encoded in the same way as ArrivalDateMonth (as done previously). This encoding process will create 3 new features signifying year, month, and date. "
   ]
  },
  {
   "cell_type": "code",
   "execution_count": 575,
   "metadata": {},
   "outputs": [
    {
     "name": "stdout",
     "output_type": "stream",
     "text": [
      "Transformed\n",
      "Value dropped\n"
     ]
    },
    {
     "data": {
      "text/plain": [
       "(40060, 61)"
      ]
     },
     "execution_count": 575,
     "metadata": {},
     "output_type": "execute_result"
    }
   ],
   "source": [
    "def splitDateString(value):\n",
    "    splitted = value.split('-')\n",
    "    return splitted\n",
    "\n",
    "if 'ReservationStatusDate' in df.columns:\n",
    "    # Split date string \n",
    "    df['ReservationStatusDate'] = df['ReservationStatusDate'].transform(splitDateString)\n",
    "    \n",
    "    # Store year, month, and day as separate features\n",
    "    df['ReservationStatusYear'] = df['ReservationStatusDate'].str[0]\n",
    "    df['ReservationStatusMonth'] = df['ReservationStatusDate'].str[1]\n",
    "    df['ReservationStatusDay'] = df['ReservationStatusDate'].str[2]\n",
    "    print('Transformed')\n",
    "    \n",
    "    # Drop original column which will not be used\n",
    "    df = df.drop(['ReservationStatusDate'], axis=1)\n",
    "    print('Value dropped')\n",
    "else:\n",
    "    print('Already transformed and dropped column')\n",
    "\n",
    "# This should add 3 columns, and remove 1\n",
    "df.shape"
   ]
  },
  {
   "cell_type": "code",
   "execution_count": 578,
   "metadata": {},
   "outputs": [
    {
     "data": {
      "text/plain": [
       "IsCanceled                  int64\n",
       "LeadTime                    int64\n",
       "ArrivalDateYear             int64\n",
       "ArrivalDateDayOfMonth       int64\n",
       "StaysInWeekendNights        int64\n",
       "                           ...   \n",
       "ArrivalDateMonthSin       float64\n",
       "ArrivalDateMonthCos       float64\n",
       "ReservationStatusYear       int64\n",
       "ReservationStatusMonth      int64\n",
       "ReservationStatusDay        int64\n",
       "Length: 61, dtype: object"
      ]
     },
     "execution_count": 578,
     "metadata": {},
     "output_type": "execute_result"
    }
   ],
   "source": [
    "# convert datatype of new columns \n",
    "df.ReservationStatusYear = df.ReservationStatusYear.astype(int)\n",
    "df.ReservationStatusMonth = df.ReservationStatusMonth.astype(int)\n",
    "df.ReservationStatusDay = df.ReservationStatusDay.astype(int)\n",
    "\n",
    "df.dtypes"
   ]
  },
  {
   "cell_type": "code",
   "execution_count": 579,
   "metadata": {},
   "outputs": [
    {
     "data": {
      "text/plain": [
       "(40060, 63)"
      ]
     },
     "execution_count": 579,
     "metadata": {},
     "output_type": "execute_result"
    }
   ],
   "source": [
    "# Perform sin and cosine transformation on both ReservationStatusDay and ReservationStatusMonth\n",
    "if 'ReservationStatusMonth' in df.columns and 'ReservationStatusDay' in df.columns:\n",
    "    temp_df = df\n",
    "    temp_df['ReservationStatusMonthSin'] = np.sin(2 * np.pi * temp_df['ReservationStatusMonth']/12.0)\n",
    "    temp_df['ReservationStatusMonthCos'] = np.cos(2 * np.pi * temp_df['ReservationStatusMonth']/12.0)\n",
    "\n",
    "    temp_df['ReservationStatusDaySin'] = np.sin(2 * np.pi * temp_df['ReservationStatusDay']/31.0)\n",
    "    temp_df['ReservationStatusDayCos'] = np.cos(2 * np.pi * temp_df['ReservationStatusDay']/31.0)\n",
    "    df = temp_df.drop(['ReservationStatusMonth', 'ReservationStatusDay'], axis=1)\n",
    "else:\n",
    "    print('Process has already completed')\n",
    "# this should create 4 columns, and drop 2\n",
    "df.shape"
   ]
  },
  {
   "cell_type": "markdown",
   "metadata": {},
   "source": [
    "## Impute Data\n",
    "#### Missing Values \n",
    "The columns of \"Country\", \"Agent\", and \"Company\" have missing values. At a later step, these values will be imputed with the help of a prediction model. Additionally, the \"Company\" feature column will be removed since there is a significant amount of missing data. Such features with a significant amount of missing values are rarely good features for training models. "
   ]
  },
  {
   "cell_type": "code",
   "execution_count": 339,
   "metadata": {},
   "outputs": [
    {
     "name": "stdout",
     "output_type": "stream",
     "text": [
      "\"Country_0\" column contains 464 missing values, 1.158%\n",
      "\"Country_1\" column contains 464 missing values, 1.158%\n",
      "\"Country_2\" column contains 464 missing values, 1.158%\n",
      "\"Country_3\" column contains 464 missing values, 1.158%\n",
      "\"Country_4\" column contains 464 missing values, 1.158%\n",
      "\"Country_5\" column contains 464 missing values, 1.158%\n",
      "\"Country_6\" column contains 464 missing values, 1.158%\n",
      "\"Country_7\" column contains 464 missing values, 1.158%\n",
      "\"Agent\" column contains 8209 missing values, 20.492%\n",
      "\"Company\" column contains 36952 missing values, 92.242%\n"
     ]
    },
    {
     "data": {
      "text/plain": [
       "<AxesSubplot:>"
      ]
     },
     "execution_count": 339,
     "metadata": {},
     "output_type": "execute_result"
    },
    {
     "data": {
      "image/png": "[encoded data removed]",
      "text/plain": [
       "<Figure size 1440x432 with 2 Axes>"
      ]
     },
     "metadata": {
      "needs_background": "light"
     },
     "output_type": "display_data"
    }
   ],
   "source": [
    "# count missing values\n",
    "num_rows = df.shape[0]\n",
    "missing_values = df.isnull().sum()\n",
    "for i in range(0, len(df.columns)):\n",
    "    if(missing_values[i] > 0):\n",
    "        print(f'\"{df.columns[i]}\" column contains {missing_values[i]} missing values, {(missing_values[i]/num_rows)*100:.3f}%')\n",
    "        \n",
    "mno.matrix(df, figsize = (20, 6))"
   ]
  },
  {
   "cell_type": "markdown",
   "metadata": {},
   "source": [
    "The feature *Country* is not missing a significant amount of data (only missing 1.158%), and thus those rows can be removed from the dataset to make it easier to impute values in the other columns. "
   ]
  },
  {
   "cell_type": "code",
   "execution_count": 340,
   "metadata": {},
   "outputs": [],
   "source": [
    "# Remove rows with nan values in country\n",
    "df = df[df['Country_1'].notna()]"
   ]
  },
  {
   "cell_type": "code",
   "execution_count": 341,
   "metadata": {},
   "outputs": [
    {
     "name": "stdout",
     "output_type": "stream",
     "text": [
      "DIMENSIONS\n",
      "x train: (31676, 62)\n",
      "x test: (7920, 62)\n",
      "y train: (31676,)\n",
      "y test: (7920,)\n"
     ]
    }
   ],
   "source": [
    "# Split dataset \n",
    "x = df.drop(['IsCanceled'], axis=1)\n",
    "y = df['IsCanceled']\n",
    "x_train, x_test, y_train, y_test = train_test_split(x, y, test_size=0.20, random_state=10)\n",
    "print(f'DIMENSIONS\\nx train: {x_train.shape}\\nx test: {x_test.shape}\\ny train: {y_train.shape}\\ny test: {y_test.shape}')"
   ]
  },
  {
   "cell_type": "code",
   "execution_count": 342,
   "metadata": {},
   "outputs": [
    {
     "name": "stdout",
     "output_type": "stream",
     "text": [
      "Deleted Company\n"
     ]
    },
    {
     "data": {
      "text/plain": [
       "((31676, 61), (7920, 61))"
      ]
     },
     "execution_count": 342,
     "metadata": {},
     "output_type": "execute_result"
    }
   ],
   "source": [
    "# Remove Company feature, since there are too many missing values in this feature\n",
    "if 'Company' in x_train and 'Company' in x_test:\n",
    "    print('Deleted Company')\n",
    "    x_train = x_train.drop(['Company'], axis=1)\n",
    "    x_test = x_test.drop(['Company'], axis=1)\n",
    "else:\n",
    "    print('Already deleted')\n",
    "# deleted 1 column, originally started with 66\n",
    "x_train.shape, x_test.shape"
   ]
  },
  {
   "cell_type": "code",
   "execution_count": 343,
   "metadata": {},
   "outputs": [
    {
     "name": "stdout",
     "output_type": "stream",
     "text": [
      "\"Agent\" column contains 6296 missing values, 19.876%\n"
     ]
    }
   ],
   "source": [
    "# count missing values again\n",
    "num_rows = x_train.shape[0]\n",
    "missing_values = x_train.isnull().sum()\n",
    "for i in range(0, len(x_train.columns)):\n",
    "    if(missing_values[i] > 0):\n",
    "        print(f'\"{x_train.columns[i]}\" column contains {missing_values[i]} missing values, {(missing_values[i]/num_rows)*100:.3f}%')"
   ]
  },
  {
   "cell_type": "code",
   "execution_count": 345,
   "metadata": {},
   "outputs": [],
   "source": [
    "# Impute agent using KNN Imputer\n",
    "knn_imputer = KNNImputer(n_neighbors=5)\n",
    "x_train = pd.DataFrame(knn_imputer.fit_transform(x_train), columns=x_train.columns)"
   ]
  },
  {
   "cell_type": "code",
   "execution_count": 346,
   "metadata": {},
   "outputs": [],
   "source": [
    "num_rows = x_train.shape[0]\n",
    "missing_values = x_train.isnull().sum()\n",
    "for i in range(0, len(x_train.columns)):\n",
    "    if(missing_values[i] > 0):\n",
    "        print(f'\"{x_train.columns[i]}\" column contains {missing_values[i]} missing values, {(missing_values[i]/num_rows)*100:.3f}%')"
   ]
  },
  {
   "cell_type": "code",
   "execution_count": 347,
   "metadata": {},
   "outputs": [
    {
     "name": "stdout",
     "output_type": "stream",
     "text": [
      "NaN values in the training set: 0\n"
     ]
    }
   ],
   "source": [
    "print(f'NaN values in the training set: {x_train.isnull().sum().sum()}')"
   ]
  },
  {
   "cell_type": "code",
   "execution_count": 348,
   "metadata": {},
   "outputs": [],
   "source": [
    "# impute items in the test set\n",
    "x_test = pd.DataFrame(knn_imputer.transform(x_test), columns=x_test.columns)"
   ]
  },
  {
   "cell_type": "code",
   "execution_count": 349,
   "metadata": {},
   "outputs": [
    {
     "name": "stdout",
     "output_type": "stream",
     "text": [
      "NaN values in the test set: 0\n"
     ]
    }
   ],
   "source": [
    "print(f'NaN values in the test set: {x_test.isnull().sum().sum()}')"
   ]
  },
  {
   "cell_type": "markdown",
   "metadata": {},
   "source": [
    "## Classifiers"
   ]
  },
  {
   "cell_type": "code",
   "execution_count": 357,
   "metadata": {},
   "outputs": [
    {
     "name": "stdout",
     "output_type": "stream",
     "text": [
      "Cross Validation:\n",
      "[0.91666667 0.9261247  0.91570639 0.92375691 0.92186267]\n",
      "\n",
      "Decision Tree model accuracy score on test data:\n",
      "0.9192\n",
      "\n",
      "Confusion matrix:\n",
      "[[5382  335]\n",
      " [ 305 1898]]\n",
      "\n",
      "Classification report:\n",
      "              precision    recall  f1-score   support\n",
      "\n",
      "           0       0.95      0.94      0.94      5717\n",
      "           1       0.85      0.86      0.86      2203\n",
      "\n",
      "    accuracy                           0.92      7920\n",
      "   macro avg       0.90      0.90      0.90      7920\n",
      "weighted avg       0.92      0.92      0.92      7920\n",
      "\n"
     ]
    }
   ],
   "source": [
    "# decision tree\n",
    "tree_clf = DecisionTreeClassifier().fit(x_train, y_train)\n",
    "\n",
    "print(f'Cross Validation:\\n{cross_val_score(tree_clf, x_train, y_train, cv=5)}')\n",
    "print()\n",
    "\n",
    "tree_predictions = tree_clf.predict(x_test)\n",
    "print(f'Decision Tree model accuracy score on test data:\\n{accuracy_score(y_test, tree_predictions):.4f}\\n')\n",
    "print(f'Confusion matrix:\\n{confusion_matrix(y_test, tree_predictions)}\\n')\n",
    "print(f'Classification report:\\n{classification_report(y_test, tree_predictions)}')"
   ]
  },
  {
   "cell_type": "code",
   "execution_count": 358,
   "metadata": {},
   "outputs": [
    {
     "name": "stdout",
     "output_type": "stream",
     "text": [
      "\n",
      "Cross Validation Scores:\n",
      "[0.84674874 0.84625099 0.84672455 0.84198895 0.82951855]\n",
      "\n",
      "MLP Classifier accuracy score on test data:\n",
      "0.8491\n",
      "\n",
      "Confusion matrix:\n",
      "[[5494  223]\n",
      " [ 972 1231]]\n",
      "\n",
      "Classification report:\n",
      "              precision    recall  f1-score   support\n",
      "\n",
      "           0       0.85      0.96      0.90      5717\n",
      "           1       0.85      0.56      0.67      2203\n",
      "\n",
      "    accuracy                           0.85      7920\n",
      "   macro avg       0.85      0.76      0.79      7920\n",
      "weighted avg       0.85      0.85      0.84      7920\n",
      "\n"
     ]
    }
   ],
   "source": [
    "# mlp classifier \n",
    "mlp_clf = MLPClassifier(hidden_layer_sizes=(10, 10, 10), max_iter=500).fit(x_train, y_train)\n",
    "\n",
    "print(f'\\nCross Validation Scores:\\n{cross_val_score(mlp_clf, x_train, y_train, cv=5)}\\n')\n",
    "\n",
    "mlp_predictions = mlp_clf.predict(x_test)\n",
    "print(f'MLP Classifier accuracy score on test data:\\n{accuracy_score(y_test, predictions):.4f}\\n')\n",
    "print(f'Confusion matrix:\\n{confusion_matrix(y_test, predictions)}\\n')\n",
    "print(f'Classification report:\\n{classification_report(y_test, predictions)}')"
   ]
  },
  {
   "cell_type": "code",
   "execution_count": 359,
   "metadata": {},
   "outputs": [
    {
     "name": "stdout",
     "output_type": "stream",
     "text": [
      "The decision tree is 7.0076% more accurate than MLP classifier\n"
     ]
    }
   ],
   "source": [
    "print(f'The decision tree is {(accuracy_score(y_test, tree_predictions) - accuracy_score(y_test, predictions)) * 100:.4f}% more accurate than MLP classifier')"
   ]
  },
  {
   "cell_type": "code",
   "execution_count": 360,
   "metadata": {},
   "outputs": [
    {
     "name": "stdout",
     "output_type": "stream",
     "text": [
      "\n",
      "Cross Validation Scores:\n",
      "[0.94917929 0.94996054 0.94522494 0.94396212 0.95295975]\n",
      "\n",
      "Random Forest model accuracy score on test data:\n",
      "0.9515\n",
      "\n",
      "Confusion matrix:\n",
      "[[5658   59]\n",
      " [ 325 1878]]\n",
      "\n",
      "Classification report:\n",
      "              precision    recall  f1-score   support\n",
      "\n",
      "           0       0.95      0.99      0.97      5717\n",
      "           1       0.97      0.85      0.91      2203\n",
      "\n",
      "    accuracy                           0.95      7920\n",
      "   macro avg       0.96      0.92      0.94      7920\n",
      "weighted avg       0.95      0.95      0.95      7920\n",
      "\n"
     ]
    }
   ],
   "source": [
    "# Random Forest Model\n",
    "forest_clf = RandomForestClassifier().fit(x_train, y_train)\n",
    "\n",
    "print(f'\\nCross Validation Scores:\\n{cross_val_score(forest_clf, x_train, y_train, cv=5)}\\n')\n",
    "\n",
    "randForest_predictions = forest_clf.predict(x_test)\n",
    "print(f'Random Forest model accuracy score on test data:\\n{accuracy_score(y_test, predictions_randForest):.4f}\\n')\n",
    "print(f'Confusion matrix:\\n{confusion_matrix(y_test, predictions_randForest)}\\n')\n",
    "print(f'Classification report:\\n{classification_report(y_test, predictions_randForest)}')"
   ]
  },
  {
   "cell_type": "code",
   "execution_count": 361,
   "metadata": {},
   "outputs": [
    {
     "name": "stdout",
     "output_type": "stream",
     "text": [
      "The random forest model is 3.2323% more accurate than Decision Tree\n"
     ]
    }
   ],
   "source": [
    "print(f'The random forest model is {(accuracy_score(y_test, predictions_randForest) - accuracy_score(y_test, tree_predictions)) * 100:.4f}% more accurate than Decision Tree')"
   ]
  },
  {
   "cell_type": "markdown",
   "metadata": {},
   "source": [
    "### Tuning Hyperparameters"
   ]
  },
  {
   "cell_type": "code",
   "execution_count": 366,
   "metadata": {},
   "outputs": [
    {
     "name": "stdout",
     "output_type": "stream",
     "text": [
      "Grid search completed.\n",
      "\n",
      "Here are the best parameters for Decision Tree: {'criterion': 'gini', 'max_depth': None, 'max_features': None, 'min_samples_leaf': 4, 'min_samples_split': 8, 'splitter': 'best'} \n",
      "\n"
     ]
    }
   ],
   "source": [
    "# Grid search for Decision Tree model\n",
    "parameters = {'criterion' : ['gini', 'entropy'],\n",
    "              'splitter': ['best', 'random'],\n",
    "              'max_depth': [None, 2, 4, 16, 32],\n",
    "              'min_samples_split': [2, 4, 8, 16],\n",
    "              'min_samples_leaf': [1, 2, 4, 8],\n",
    "              'max_features' : [None, 'auto', 'sqrt', 'log2']\n",
    "             }\n",
    "\n",
    "gridClf = GridSearchCV(DecisionTreeClassifier(), parameters, cv=3)\n",
    "gridClf.fit(x_train, y_train)\n",
    "print(\"Grid search completed.\")\n",
    "\n",
    "print(\"\\nHere are the best parameters for Decision Tree:\", gridClf.best_params_, \"\\n\")"
   ]
  },
  {
   "cell_type": "code",
   "execution_count": 391,
   "metadata": {},
   "outputs": [
    {
     "name": "stdout",
     "output_type": "stream",
     "text": [
      "Grid search completed.\n",
      "\n",
      "Here are the best parameters for Random Forest: {'criterion': 'entropy', 'max_depth': 100, 'max_features': 'auto', 'min_samples_split': 3} \n",
      "\n"
     ]
    }
   ],
   "source": [
    "# Grid search for Random Forest model\n",
    "parameters = {'criterion' : ['gini', 'entropy'],\n",
    "              'min_samples_split': [2, 3, 4],\n",
    "              'max_depth': [None, 10, 50, 100, 200],\n",
    "              'max_features': [\"auto\", \"sqrt\", \"log2\"]\n",
    "             }\n",
    "\n",
    "gridClf = GridSearchCV(RandomForestClassifier(), parameters, cv=3)\n",
    "gridClf.fit(x_train, y_train)\n",
    "print(\"Grid search completed.\")\n",
    "\n",
    "print(\"\\nHere are the best parameters for Random Forest:\", gridClf.best_params_, \"\\n\")"
   ]
  },
  {
   "cell_type": "code",
   "execution_count": 370,
   "metadata": {},
   "outputs": [
    {
     "name": "stdout",
     "output_type": "stream",
     "text": [
      "Grid search completed.\n",
      "\n",
      "Here are the best parameters for MLP: {'activation': 'relu', 'alpha': 0.005, 'hidden_layer_sizes': (100, 10, 50), 'learning_rate': 'constant', 'solver': 'adam'} \n",
      "\n"
     ]
    }
   ],
   "source": [
    "# Grid search for Multilayer Perceptron model\n",
    "parameters = {'solver': ['adam', 'lbfgs', 'sgd'], \n",
    "              'activation': ['identity', 'logistic', 'tanh', 'relu'],\n",
    "              'hidden_layer_sizes': [(10,10,10), (10, 5), (100, 10, 50)],\n",
    "              'alpha': [.0001, .005], \n",
    "              'learning_rate': ['constant', 'adaptive', 'invscaling']}\n",
    "\n",
    "gridClf = GridSearchCV(MLPClassifier(), parameters, cv=3).fit(x_train, y_train)\n",
    "print(\"Grid search completed.\")\n",
    "\n",
    "print(\"\\nHere are the best parameters for MLP:\",gridClf.best_params_,\"\\n\")"
   ]
  },
  {
   "cell_type": "markdown",
   "metadata": {},
   "source": [
    "### Creating models with the best parameters returned from grid search"
   ]
  },
  {
   "cell_type": "code",
   "execution_count": 377,
   "metadata": {},
   "outputs": [
    {
     "name": "stdout",
     "output_type": "stream",
     "text": [
      "Tuned Decision Tree model accuracy score on test data:\n",
      "0.9210\n",
      "\n"
     ]
    }
   ],
   "source": [
    "# decision tree \n",
    "tuned_tree_clf = DecisionTreeClassifier(criterion='gini', max_depth=None, max_features=None, min_samples_leaf=4, min_samples_split=8, splitter='best').fit(x_train, y_train)\n",
    "\n",
    "tuned_tree_predictions = tuned_tree_clf.predict(x_test)\n",
    "print(f'Tuned Decision Tree model accuracy score on test data:\\n{accuracy_score(y_test, tuned_tree_predictions):.4f}\\n')"
   ]
  },
  {
   "cell_type": "code",
   "execution_count": 395,
   "metadata": {},
   "outputs": [
    {
     "name": "stdout",
     "output_type": "stream",
     "text": [
      "Tuned Random Forest model accuracy score on test data:\n",
      "0.9516\n",
      "\n"
     ]
    }
   ],
   "source": [
    "# Random Forest Model\n",
    "tuned_forest_clf = RandomForestClassifier(criterion='entropy', max_depth=100, max_features='auto', min_samples_split=3).fit(x_train, y_train)\n",
    "\n",
    "tuned_predictions_randForest = tuned_forest_clf.predict(x_test)\n",
    "print(f'Tuned Random Forest model accuracy score on test data:\\n{accuracy_score(y_test, tuned_predictions_randForest):.4f}\\n')"
   ]
  },
  {
   "cell_type": "code",
   "execution_count": 586,
   "metadata": {},
   "outputs": [
    {
     "name": "stdout",
     "output_type": "stream",
     "text": [
      "Tuned MLP Classifier accuracy score on test data:\n",
      "0.8832\n",
      "\n"
     ]
    }
   ],
   "source": [
    "# mlp classifier \n",
    "tuned_mlp_clf = MLPClassifier(activation='relu', alpha=0.005, hidden_layer_sizes=(100,10,50), learning_rate='constant', solver='adam').fit(x_train, y_train)\n",
    "\n",
    "tuned_predictions_mlp = tuned_mlp_clf.predict(x_test)\n",
    "print(f'Tuned MLP Classifier accuracy score on test data:\\n{accuracy_score(y_test, tuned_predictions_mlp):.4f}\\n')"
   ]
  },
  {
   "cell_type": "code",
   "execution_count": 724,
   "metadata": {},
   "outputs": [
    {
     "name": "stdout",
     "output_type": "stream",
     "text": [
      "Tuned Decision Tree accuracy gain: 0.0018 or 0.1768%\n",
      "Tuned Random Forest accuracy gain: 0.0001 or 0.0126%\n",
      "Tuned MLP Classifier accuracy gain: 0.0472 or 4.7222%\n"
     ]
    }
   ],
   "source": [
    "# difference between untuned and tuned accuracy scores\n",
    "decisionTree = accuracy_score(y_test, tuned_tree_predictions) - accuracy_score(y_test, tree_predictions)\n",
    "randomForest = accuracy_score(y_test, tuned_predictions_randForest) - accuracy_score(y_test, predictions_randForest)\n",
    "mlpClassifier = accuracy_score(y_test, tuned_predictions_mlp) - accuracy_score(y_test, mlp_predictions)\n",
    "\n",
    "print(f'Tuned Decision Tree accuracy gain: {decisionTree:.4f} or {decisionTree * 100:.4f}%')\n",
    "print(f'Tuned Random Forest accuracy gain: {randomForest:.4f} or {randomForest * 100:.4f}%')\n",
    "print(f'Tuned MLP Classifier accuracy gain: {mlpClassifier:.4f} or {mlpClassifier * 100:.4f}%')"
   ]
  },
  {
   "cell_type": "code",
   "execution_count": 725,
   "metadata": {
    "scrolled": false
   },
   "outputs": [
    {
     "data": {
      "image/png": "[encoded data removed]",
      "text/plain": [
       "<Figure size 720x504 with 1 Axes>"
      ]
     },
     "metadata": {
      "needs_background": "light"
     },
     "output_type": "display_data"
    }
   ],
   "source": [
    "plt.style.use('seaborn-deep')\n",
    "\n",
    "tuned = np.array([accuracy_score(y_test, tuned_tree_predictions), accuracy_score(y_test, tuned_predictions_randForest), accuracy_score(y_test, tuned_predictions_mlp)])\n",
    "untuned = np.array([accuracy_score(y_test, tree_predictions), accuracy_score(y_test, predictions_randForest), accuracy_score(y_test, mlp_predictions)])\n",
    "labels = ['Decision Tree', 'Random Forest', 'MLP Classifier']\n",
    "\n",
    "x = np.arange(len(labels))\n",
    "width = 0.30\n",
    "\n",
    "plt.rcParams[\"figure.figsize\"] = (10,7)\n",
    "\n",
    "fig, ax = plt.subplots()\n",
    "tuned_bar = ax.bar(x - width/2, tuned, width, label='Tuned')\n",
    "untuned_bar = ax.bar(x + width/2, untuned, width, label='Untuned')\n",
    "\n",
    "ax.set_ylabel('Accuracy Score')\n",
    "ax.set_title('Accuracy score for tuned and untuned classifiers')\n",
    "ax.set_xticks(x)\n",
    "ax.set_xticklabels(labels)\n",
    "ax.legend()\n",
    "\n",
    "fig.tight_layout()\n",
    "\n",
    "plt.savefig('classifier_results.png', bbox_inches='tight')"
   ]
  },
  {
   "cell_type": "code",
   "execution_count": 634,
   "metadata": {},
   "outputs": [
    {
     "name": "stdout",
     "output_type": "stream",
     "text": [
      "Checking for overfitting and underfitting\n",
      "\n",
      "Decision tree:\n",
      "Training set accuracy score: 0.9704\n",
      "Test set accuracy score: 0.9210\n",
      "\n",
      "Random Forest:\n",
      "Training accuracy set score: 0.9995\n",
      "Test set accuracy score: 0.9516\n",
      "\n",
      "MLP Classifier:\n",
      "Training accuracy set score: 0.8899\n",
      "Test set accuracy score: 0.8832\n",
      "\n"
     ]
    }
   ],
   "source": [
    "# checking for overfitting and underfitting \n",
    "print(\"Checking for overfitting and underfitting\\n\")\n",
    "tree_train_predictions = tuned_tree_clf.predict(x_train)\n",
    "forest_train_predictions = tuned_forest_clf.predict(x_train)\n",
    "mlp_train_predictions = tuned_mlp_clf.predict(x_train)\n",
    "\n",
    "print(\"Decision tree:\")\n",
    "print(f'Training set accuracy score: {accuracy_score(y_train, tree_train_predictions):.4f}')\n",
    "print(f'Test set accuracy score: {accuracy_score(y_test, tuned_tree_predictions):.4f}\\n')\n",
    "\n",
    "print(\"Random Forest:\")\n",
    "print(f'Training accuracy set score: {accuracy_score(y_train, forest_train_predictions):.4f}')\n",
    "print(f'Test set accuracy score: {accuracy_score(y_test, tuned_predictions_randForest):.4f}\\n')\n",
    "\n",
    "print(\"MLP Classifier:\")\n",
    "print(f'Training accuracy set score: {accuracy_score(y_train, mlp_train_predictions):.4f}')\n",
    "print(f'Test set accuracy score: {accuracy_score(y_test, tuned_predictions_mlp):.4f}\\n')"
   ]
  }
 ],
 "metadata": {
  "kernelspec": {
   "display_name": "Python 3",
   "language": "python",
   "name": "python3"
  },
  "language_info": {
   "codemirror_mode": {
    "name": "ipython",
    "version": 3
   },
   "file_extension": ".py",
   "mimetype": "text/x-python",
   "name": "python",
   "nbconvert_exporter": "python",
   "pygments_lexer": "ipython3",
   "version": "3.7.4"
  }
 },
 "nbformat": 4,
 "nbformat_minor": 2
}
